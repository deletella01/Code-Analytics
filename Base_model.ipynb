{
  "nbformat": 4,
  "nbformat_minor": 0,
  "metadata": {
    "colab": {
      "provenance": [],
      "authorship_tag": "ABX9TyNCZq2v9eWEtm7HNTK12O0t",
      "include_colab_link": true
    },
    "kernelspec": {
      "name": "python3",
      "display_name": "Python 3"
    },
    "language_info": {
      "name": "python"
    }
  },
  "cells": [
    {
      "cell_type": "markdown",
      "metadata": {
        "id": "view-in-github",
        "colab_type": "text"
      },
      "source": [
        "<a href=\"https://colab.research.google.com/github/deletella01/Code-Analytics/blob/main/Premiere_Project.ipynb\" target=\"_parent\"><img src=\"https://colab.research.google.com/assets/colab-badge.svg\" alt=\"Open In Colab\"/></a>"
      ]
    },
    {
      "cell_type": "code",
      "source": [],
      "metadata": {
        "id": "fVgTEnNZfh6r"
      },
      "execution_count": null,
      "outputs": []
    },
    {
      "cell_type": "code",
      "source": [
        "import gdown\n",
        "\n",
        "# Replace 'YOUR_FILE_ID' with the actual file ID from the shareable link.\n",
        "file_id = '1zCMQei9PPafTYIf3zaloq4c1sxvjT6Yw'\n",
        "\n",
        "# Specify the destination file path and name.\n",
        "output = 'specie_trade_data.csv'  # You can change the file name and extension.\n",
        "\n",
        "# Download the file.\n",
        "gdown.download(f'https://drive.google.com/uc?id={\"1zCMQei9PPafTYIf3zaloq4c1sxvjT6Yw\"}', output, quiet=False)\n",
        "\n",
        "# https://drive.google.com/file/d/1zCMQei9PPafTYIf3zaloq4c1sxvjT6Yw/view?usp=share_link"
      ],
      "metadata": {
        "colab": {
          "base_uri": "https://localhost:8080/",
          "height": 105
        },
        "id": "9eBdrkk4dYs1",
        "outputId": "8920582c-4030-4c85-c6df-2864fe319aca"
      },
      "execution_count": 1,
      "outputs": [
        {
          "output_type": "stream",
          "name": "stderr",
          "text": [
            "Downloading...\n",
            "From: https://drive.google.com/uc?id=1zCMQei9PPafTYIf3zaloq4c1sxvjT6Yw\n",
            "To: /content/specie_trade_data.csv\n",
            "100%|██████████| 6.24M/6.24M [00:00<00:00, 54.3MB/s]\n"
          ]
        },
        {
          "output_type": "execute_result",
          "data": {
            "text/plain": [
              "'specie_trade_data.csv'"
            ],
            "application/vnd.google.colaboratory.intrinsic+json": {
              "type": "string"
            }
          },
          "metadata": {},
          "execution_count": 1
        }
      ]
    },
    {
      "cell_type": "code",
      "source": [
        "import pandas as pd\n",
        "\n",
        "# Import the data and view the tranpose of the first 5 rows\n",
        "df = pd.read_csv('specie_trade_data.csv')  # Use the same filename you specified in the download step.\n",
        "df.head().T"
      ],
      "metadata": {
        "colab": {
          "base_uri": "https://localhost:8080/",
          "height": 551
        },
        "id": "cCe8htludYlQ",
        "outputId": "bdb3dfdb-ecd0-4c42-8a69-1605043d0e8b"
      },
      "execution_count": 2,
      "outputs": [
        {
          "output_type": "execute_result",
          "data": {
            "text/plain": [
              "                                         0               1  \\\n",
              "Year                                  2016            2016   \n",
              "App.                                     I               I   \n",
              "Taxon                       Aquila heliaca  Aquila heliaca   \n",
              "Class                                 Aves            Aves   \n",
              "Order                        Falconiformes   Falconiformes   \n",
              "Family                        Accipitridae    Accipitridae   \n",
              "Genus                               Aquila          Aquila   \n",
              "Importer                                TR              XV   \n",
              "Exporter                                NL              RS   \n",
              "Origin                                  CZ              RS   \n",
              "Importer reported quantity             NaN             NaN   \n",
              "Exporter reported quantity             1.0             1.0   \n",
              "Term                                bodies          bodies   \n",
              "Unit                                   NaN             NaN   \n",
              "Purpose                                  T               Q   \n",
              "Source                                   C               O   \n",
              "\n",
              "                                               2                     3  \\\n",
              "Year                                        2016                  2016   \n",
              "App.                                           I                     I   \n",
              "Taxon                       Haliaeetus albicilla  Haliaeetus albicilla   \n",
              "Class                                       Aves                  Aves   \n",
              "Order                              Falconiformes         Falconiformes   \n",
              "Family                              Accipitridae          Accipitridae   \n",
              "Genus                                 Haliaeetus            Haliaeetus   \n",
              "Importer                                      BE                    BE   \n",
              "Exporter                                      NO                    NO   \n",
              "Origin                                       NaN                   NaN   \n",
              "Importer reported quantity                   NaN                   NaN   \n",
              "Exporter reported quantity                  43.0                  43.0   \n",
              "Term                                    feathers             specimens   \n",
              "Unit                                         NaN                   NaN   \n",
              "Purpose                                        S                     S   \n",
              "Source                                         W                     W   \n",
              "\n",
              "                                               4  \n",
              "Year                                        2016  \n",
              "App.                                           I  \n",
              "Taxon                       Haliaeetus albicilla  \n",
              "Class                                       Aves  \n",
              "Order                              Falconiformes  \n",
              "Family                              Accipitridae  \n",
              "Genus                                 Haliaeetus  \n",
              "Importer                                      DK  \n",
              "Exporter                                      IS  \n",
              "Origin                                       NaN  \n",
              "Importer reported quantity                 700.0  \n",
              "Exporter reported quantity                   NaN  \n",
              "Term                                   specimens  \n",
              "Unit                                         NaN  \n",
              "Purpose                                        S  \n",
              "Source                                         W  "
            ],
            "text/html": [
              "\n",
              "  <div id=\"df-c1bf662e-d914-406c-a6e8-4ae7462f54f7\" class=\"colab-df-container\">\n",
              "    <div>\n",
              "<style scoped>\n",
              "    .dataframe tbody tr th:only-of-type {\n",
              "        vertical-align: middle;\n",
              "    }\n",
              "\n",
              "    .dataframe tbody tr th {\n",
              "        vertical-align: top;\n",
              "    }\n",
              "\n",
              "    .dataframe thead th {\n",
              "        text-align: right;\n",
              "    }\n",
              "</style>\n",
              "<table border=\"1\" class=\"dataframe\">\n",
              "  <thead>\n",
              "    <tr style=\"text-align: right;\">\n",
              "      <th></th>\n",
              "      <th>0</th>\n",
              "      <th>1</th>\n",
              "      <th>2</th>\n",
              "      <th>3</th>\n",
              "      <th>4</th>\n",
              "    </tr>\n",
              "  </thead>\n",
              "  <tbody>\n",
              "    <tr>\n",
              "      <th>Year</th>\n",
              "      <td>2016</td>\n",
              "      <td>2016</td>\n",
              "      <td>2016</td>\n",
              "      <td>2016</td>\n",
              "      <td>2016</td>\n",
              "    </tr>\n",
              "    <tr>\n",
              "      <th>App.</th>\n",
              "      <td>I</td>\n",
              "      <td>I</td>\n",
              "      <td>I</td>\n",
              "      <td>I</td>\n",
              "      <td>I</td>\n",
              "    </tr>\n",
              "    <tr>\n",
              "      <th>Taxon</th>\n",
              "      <td>Aquila heliaca</td>\n",
              "      <td>Aquila heliaca</td>\n",
              "      <td>Haliaeetus albicilla</td>\n",
              "      <td>Haliaeetus albicilla</td>\n",
              "      <td>Haliaeetus albicilla</td>\n",
              "    </tr>\n",
              "    <tr>\n",
              "      <th>Class</th>\n",
              "      <td>Aves</td>\n",
              "      <td>Aves</td>\n",
              "      <td>Aves</td>\n",
              "      <td>Aves</td>\n",
              "      <td>Aves</td>\n",
              "    </tr>\n",
              "    <tr>\n",
              "      <th>Order</th>\n",
              "      <td>Falconiformes</td>\n",
              "      <td>Falconiformes</td>\n",
              "      <td>Falconiformes</td>\n",
              "      <td>Falconiformes</td>\n",
              "      <td>Falconiformes</td>\n",
              "    </tr>\n",
              "    <tr>\n",
              "      <th>Family</th>\n",
              "      <td>Accipitridae</td>\n",
              "      <td>Accipitridae</td>\n",
              "      <td>Accipitridae</td>\n",
              "      <td>Accipitridae</td>\n",
              "      <td>Accipitridae</td>\n",
              "    </tr>\n",
              "    <tr>\n",
              "      <th>Genus</th>\n",
              "      <td>Aquila</td>\n",
              "      <td>Aquila</td>\n",
              "      <td>Haliaeetus</td>\n",
              "      <td>Haliaeetus</td>\n",
              "      <td>Haliaeetus</td>\n",
              "    </tr>\n",
              "    <tr>\n",
              "      <th>Importer</th>\n",
              "      <td>TR</td>\n",
              "      <td>XV</td>\n",
              "      <td>BE</td>\n",
              "      <td>BE</td>\n",
              "      <td>DK</td>\n",
              "    </tr>\n",
              "    <tr>\n",
              "      <th>Exporter</th>\n",
              "      <td>NL</td>\n",
              "      <td>RS</td>\n",
              "      <td>NO</td>\n",
              "      <td>NO</td>\n",
              "      <td>IS</td>\n",
              "    </tr>\n",
              "    <tr>\n",
              "      <th>Origin</th>\n",
              "      <td>CZ</td>\n",
              "      <td>RS</td>\n",
              "      <td>NaN</td>\n",
              "      <td>NaN</td>\n",
              "      <td>NaN</td>\n",
              "    </tr>\n",
              "    <tr>\n",
              "      <th>Importer reported quantity</th>\n",
              "      <td>NaN</td>\n",
              "      <td>NaN</td>\n",
              "      <td>NaN</td>\n",
              "      <td>NaN</td>\n",
              "      <td>700.0</td>\n",
              "    </tr>\n",
              "    <tr>\n",
              "      <th>Exporter reported quantity</th>\n",
              "      <td>1.0</td>\n",
              "      <td>1.0</td>\n",
              "      <td>43.0</td>\n",
              "      <td>43.0</td>\n",
              "      <td>NaN</td>\n",
              "    </tr>\n",
              "    <tr>\n",
              "      <th>Term</th>\n",
              "      <td>bodies</td>\n",
              "      <td>bodies</td>\n",
              "      <td>feathers</td>\n",
              "      <td>specimens</td>\n",
              "      <td>specimens</td>\n",
              "    </tr>\n",
              "    <tr>\n",
              "      <th>Unit</th>\n",
              "      <td>NaN</td>\n",
              "      <td>NaN</td>\n",
              "      <td>NaN</td>\n",
              "      <td>NaN</td>\n",
              "      <td>NaN</td>\n",
              "    </tr>\n",
              "    <tr>\n",
              "      <th>Purpose</th>\n",
              "      <td>T</td>\n",
              "      <td>Q</td>\n",
              "      <td>S</td>\n",
              "      <td>S</td>\n",
              "      <td>S</td>\n",
              "    </tr>\n",
              "    <tr>\n",
              "      <th>Source</th>\n",
              "      <td>C</td>\n",
              "      <td>O</td>\n",
              "      <td>W</td>\n",
              "      <td>W</td>\n",
              "      <td>W</td>\n",
              "    </tr>\n",
              "  </tbody>\n",
              "</table>\n",
              "</div>\n",
              "    <div class=\"colab-df-buttons\">\n",
              "\n",
              "  <div class=\"colab-df-container\">\n",
              "    <button class=\"colab-df-convert\" onclick=\"convertToInteractive('df-c1bf662e-d914-406c-a6e8-4ae7462f54f7')\"\n",
              "            title=\"Convert this dataframe to an interactive table.\"\n",
              "            style=\"display:none;\">\n",
              "\n",
              "  <svg xmlns=\"http://www.w3.org/2000/svg\" height=\"24px\" viewBox=\"0 -960 960 960\">\n",
              "    <path d=\"M120-120v-720h720v720H120Zm60-500h600v-160H180v160Zm220 220h160v-160H400v160Zm0 220h160v-160H400v160ZM180-400h160v-160H180v160Zm440 0h160v-160H620v160ZM180-180h160v-160H180v160Zm440 0h160v-160H620v160Z\"/>\n",
              "  </svg>\n",
              "    </button>\n",
              "\n",
              "  <style>\n",
              "    .colab-df-container {\n",
              "      display:flex;\n",
              "      gap: 12px;\n",
              "    }\n",
              "\n",
              "    .colab-df-convert {\n",
              "      background-color: #E8F0FE;\n",
              "      border: none;\n",
              "      border-radius: 50%;\n",
              "      cursor: pointer;\n",
              "      display: none;\n",
              "      fill: #1967D2;\n",
              "      height: 32px;\n",
              "      padding: 0 0 0 0;\n",
              "      width: 32px;\n",
              "    }\n",
              "\n",
              "    .colab-df-convert:hover {\n",
              "      background-color: #E2EBFA;\n",
              "      box-shadow: 0px 1px 2px rgba(60, 64, 67, 0.3), 0px 1px 3px 1px rgba(60, 64, 67, 0.15);\n",
              "      fill: #174EA6;\n",
              "    }\n",
              "\n",
              "    .colab-df-buttons div {\n",
              "      margin-bottom: 4px;\n",
              "    }\n",
              "\n",
              "    [theme=dark] .colab-df-convert {\n",
              "      background-color: #3B4455;\n",
              "      fill: #D2E3FC;\n",
              "    }\n",
              "\n",
              "    [theme=dark] .colab-df-convert:hover {\n",
              "      background-color: #434B5C;\n",
              "      box-shadow: 0px 1px 3px 1px rgba(0, 0, 0, 0.15);\n",
              "      filter: drop-shadow(0px 1px 2px rgba(0, 0, 0, 0.3));\n",
              "      fill: #FFFFFF;\n",
              "    }\n",
              "  </style>\n",
              "\n",
              "    <script>\n",
              "      const buttonEl =\n",
              "        document.querySelector('#df-c1bf662e-d914-406c-a6e8-4ae7462f54f7 button.colab-df-convert');\n",
              "      buttonEl.style.display =\n",
              "        google.colab.kernel.accessAllowed ? 'block' : 'none';\n",
              "\n",
              "      async function convertToInteractive(key) {\n",
              "        const element = document.querySelector('#df-c1bf662e-d914-406c-a6e8-4ae7462f54f7');\n",
              "        const dataTable =\n",
              "          await google.colab.kernel.invokeFunction('convertToInteractive',\n",
              "                                                    [key], {});\n",
              "        if (!dataTable) return;\n",
              "\n",
              "        const docLinkHtml = 'Like what you see? Visit the ' +\n",
              "          '<a target=\"_blank\" href=https://colab.research.google.com/notebooks/data_table.ipynb>data table notebook</a>'\n",
              "          + ' to learn more about interactive tables.';\n",
              "        element.innerHTML = '';\n",
              "        dataTable['output_type'] = 'display_data';\n",
              "        await google.colab.output.renderOutput(dataTable, element);\n",
              "        const docLink = document.createElement('div');\n",
              "        docLink.innerHTML = docLinkHtml;\n",
              "        element.appendChild(docLink);\n",
              "      }\n",
              "    </script>\n",
              "  </div>\n",
              "\n",
              "\n",
              "<div id=\"df-d54054e0-3d69-48a8-9f6f-bec98da2e3e9\">\n",
              "  <button class=\"colab-df-quickchart\" onclick=\"quickchart('df-d54054e0-3d69-48a8-9f6f-bec98da2e3e9')\"\n",
              "            title=\"Suggest charts.\"\n",
              "            style=\"display:none;\">\n",
              "\n",
              "<svg xmlns=\"http://www.w3.org/2000/svg\" height=\"24px\"viewBox=\"0 0 24 24\"\n",
              "     width=\"24px\">\n",
              "    <g>\n",
              "        <path d=\"M19 3H5c-1.1 0-2 .9-2 2v14c0 1.1.9 2 2 2h14c1.1 0 2-.9 2-2V5c0-1.1-.9-2-2-2zM9 17H7v-7h2v7zm4 0h-2V7h2v10zm4 0h-2v-4h2v4z\"/>\n",
              "    </g>\n",
              "</svg>\n",
              "  </button>\n",
              "\n",
              "<style>\n",
              "  .colab-df-quickchart {\n",
              "      --bg-color: #E8F0FE;\n",
              "      --fill-color: #1967D2;\n",
              "      --hover-bg-color: #E2EBFA;\n",
              "      --hover-fill-color: #174EA6;\n",
              "      --disabled-fill-color: #AAA;\n",
              "      --disabled-bg-color: #DDD;\n",
              "  }\n",
              "\n",
              "  [theme=dark] .colab-df-quickchart {\n",
              "      --bg-color: #3B4455;\n",
              "      --fill-color: #D2E3FC;\n",
              "      --hover-bg-color: #434B5C;\n",
              "      --hover-fill-color: #FFFFFF;\n",
              "      --disabled-bg-color: #3B4455;\n",
              "      --disabled-fill-color: #666;\n",
              "  }\n",
              "\n",
              "  .colab-df-quickchart {\n",
              "    background-color: var(--bg-color);\n",
              "    border: none;\n",
              "    border-radius: 50%;\n",
              "    cursor: pointer;\n",
              "    display: none;\n",
              "    fill: var(--fill-color);\n",
              "    height: 32px;\n",
              "    padding: 0;\n",
              "    width: 32px;\n",
              "  }\n",
              "\n",
              "  .colab-df-quickchart:hover {\n",
              "    background-color: var(--hover-bg-color);\n",
              "    box-shadow: 0 1px 2px rgba(60, 64, 67, 0.3), 0 1px 3px 1px rgba(60, 64, 67, 0.15);\n",
              "    fill: var(--button-hover-fill-color);\n",
              "  }\n",
              "\n",
              "  .colab-df-quickchart-complete:disabled,\n",
              "  .colab-df-quickchart-complete:disabled:hover {\n",
              "    background-color: var(--disabled-bg-color);\n",
              "    fill: var(--disabled-fill-color);\n",
              "    box-shadow: none;\n",
              "  }\n",
              "\n",
              "  .colab-df-spinner {\n",
              "    border: 2px solid var(--fill-color);\n",
              "    border-color: transparent;\n",
              "    border-bottom-color: var(--fill-color);\n",
              "    animation:\n",
              "      spin 1s steps(1) infinite;\n",
              "  }\n",
              "\n",
              "  @keyframes spin {\n",
              "    0% {\n",
              "      border-color: transparent;\n",
              "      border-bottom-color: var(--fill-color);\n",
              "      border-left-color: var(--fill-color);\n",
              "    }\n",
              "    20% {\n",
              "      border-color: transparent;\n",
              "      border-left-color: var(--fill-color);\n",
              "      border-top-color: var(--fill-color);\n",
              "    }\n",
              "    30% {\n",
              "      border-color: transparent;\n",
              "      border-left-color: var(--fill-color);\n",
              "      border-top-color: var(--fill-color);\n",
              "      border-right-color: var(--fill-color);\n",
              "    }\n",
              "    40% {\n",
              "      border-color: transparent;\n",
              "      border-right-color: var(--fill-color);\n",
              "      border-top-color: var(--fill-color);\n",
              "    }\n",
              "    60% {\n",
              "      border-color: transparent;\n",
              "      border-right-color: var(--fill-color);\n",
              "    }\n",
              "    80% {\n",
              "      border-color: transparent;\n",
              "      border-right-color: var(--fill-color);\n",
              "      border-bottom-color: var(--fill-color);\n",
              "    }\n",
              "    90% {\n",
              "      border-color: transparent;\n",
              "      border-bottom-color: var(--fill-color);\n",
              "    }\n",
              "  }\n",
              "</style>\n",
              "\n",
              "  <script>\n",
              "    async function quickchart(key) {\n",
              "      const quickchartButtonEl =\n",
              "        document.querySelector('#' + key + ' button');\n",
              "      quickchartButtonEl.disabled = true;  // To prevent multiple clicks.\n",
              "      quickchartButtonEl.classList.add('colab-df-spinner');\n",
              "      try {\n",
              "        const charts = await google.colab.kernel.invokeFunction(\n",
              "            'suggestCharts', [key], {});\n",
              "      } catch (error) {\n",
              "        console.error('Error during call to suggestCharts:', error);\n",
              "      }\n",
              "      quickchartButtonEl.classList.remove('colab-df-spinner');\n",
              "      quickchartButtonEl.classList.add('colab-df-quickchart-complete');\n",
              "    }\n",
              "    (() => {\n",
              "      let quickchartButtonEl =\n",
              "        document.querySelector('#df-d54054e0-3d69-48a8-9f6f-bec98da2e3e9 button');\n",
              "      quickchartButtonEl.style.display =\n",
              "        google.colab.kernel.accessAllowed ? 'block' : 'none';\n",
              "    })();\n",
              "  </script>\n",
              "</div>\n",
              "    </div>\n",
              "  </div>\n"
            ]
          },
          "metadata": {},
          "execution_count": 2
        }
      ]
    },
    {
      "cell_type": "code",
      "source": [
        "df.info()    # Get information about the dataset"
      ],
      "metadata": {
        "colab": {
          "base_uri": "https://localhost:8080/"
        },
        "id": "wA1VAGR5dYak",
        "outputId": "12d41586-ab47-446f-9e4c-d7a10147edb7"
      },
      "execution_count": 3,
      "outputs": [
        {
          "output_type": "stream",
          "name": "stdout",
          "text": [
            "<class 'pandas.core.frame.DataFrame'>\n",
            "RangeIndex: 67161 entries, 0 to 67160\n",
            "Data columns (total 16 columns):\n",
            " #   Column                      Non-Null Count  Dtype  \n",
            "---  ------                      --------------  -----  \n",
            " 0   Year                        67161 non-null  int64  \n",
            " 1   App.                        67161 non-null  object \n",
            " 2   Taxon                       67161 non-null  object \n",
            " 3   Class                       46937 non-null  object \n",
            " 4   Order                       67104 non-null  object \n",
            " 5   Family                      66700 non-null  object \n",
            " 6   Genus                       65702 non-null  object \n",
            " 7   Importer                    67090 non-null  object \n",
            " 8   Exporter                    66588 non-null  object \n",
            " 9   Origin                      25643 non-null  object \n",
            " 10  Importer reported quantity  31866 non-null  float64\n",
            " 11  Exporter reported quantity  44021 non-null  float64\n",
            " 12  Term                        67161 non-null  object \n",
            " 13  Unit                        6402 non-null   object \n",
            " 14  Purpose                     61102 non-null  object \n",
            " 15  Source                      66617 non-null  object \n",
            "dtypes: float64(2), int64(1), object(13)\n",
            "memory usage: 8.2+ MB\n"
          ]
        }
      ]
    },
    {
      "cell_type": "code",
      "source": [
        "pd.options.display.float_format = '{:.3f}'.format"
      ],
      "metadata": {
        "id": "D1PaBfTRlH8B"
      },
      "execution_count": 4,
      "outputs": []
    },
    {
      "cell_type": "code",
      "source": [
        "df.describe(include='all')"
      ],
      "metadata": {
        "colab": {
          "base_uri": "https://localhost:8080/",
          "height": 466
        },
        "id": "S787JaOjhjk_",
        "outputId": "dedc0079-5b3f-461f-d7c1-e4788bdc27d4"
      },
      "execution_count": 5,
      "outputs": [
        {
          "output_type": "execute_result",
          "data": {
            "text/plain": [
              "            Year   App.                 Taxon     Class       Order  \\\n",
              "count  67161.000  67161                 67161     46937       67104   \n",
              "unique       NaN      4                  6382        16         101   \n",
              "top          NaN     II  Crocodylus niloticus  Reptilia  Orchidales   \n",
              "freq         NaN  59253                  2417     18430        9973   \n",
              "mean    2016.002    NaN                   NaN       NaN         NaN   \n",
              "std        0.048    NaN                   NaN       NaN         NaN   \n",
              "min     2016.000    NaN                   NaN       NaN         NaN   \n",
              "25%     2016.000    NaN                   NaN       NaN         NaN   \n",
              "50%     2016.000    NaN                   NaN       NaN         NaN   \n",
              "75%     2016.000    NaN                   NaN       NaN         NaN   \n",
              "max     2017.000    NaN                   NaN       NaN         NaN   \n",
              "\n",
              "             Family       Genus Importer Exporter Origin  \\\n",
              "count         66700       65702    67090    66588  25643   \n",
              "unique          252        1340      216      211    179   \n",
              "top     Orchidaceae  Crocodylus       US       NL     ID   \n",
              "freq           9973        4408     9722     7201   2974   \n",
              "mean            NaN         NaN      NaN      NaN    NaN   \n",
              "std             NaN         NaN      NaN      NaN    NaN   \n",
              "min             NaN         NaN      NaN      NaN    NaN   \n",
              "25%             NaN         NaN      NaN      NaN    NaN   \n",
              "50%             NaN         NaN      NaN      NaN    NaN   \n",
              "75%             NaN         NaN      NaN      NaN    NaN   \n",
              "max             NaN         NaN      NaN      NaN    NaN   \n",
              "\n",
              "        Importer reported quantity  Exporter reported quantity   Term  Unit  \\\n",
              "count                    31866.000                   44021.000  67161  6402   \n",
              "unique                         NaN                         NaN     83    13   \n",
              "top                            NaN                         NaN   live    kg   \n",
              "freq                           NaN                         NaN  33862  3643   \n",
              "mean                      4382.425                    4443.878    NaN   NaN   \n",
              "std                     144910.274                  157379.357    NaN   NaN   \n",
              "min                          0.000                       0.000    NaN   NaN   \n",
              "25%                          3.000                       2.000    NaN   NaN   \n",
              "50%                         12.000                      12.000    NaN   NaN   \n",
              "75%                         80.000                      82.000    NaN   NaN   \n",
              "max                   19524978.000                21543618.000    NaN   NaN   \n",
              "\n",
              "       Purpose Source  \n",
              "count    61102  66617  \n",
              "unique      12     10  \n",
              "top          T      W  \n",
              "freq     47081  21590  \n",
              "mean       NaN    NaN  \n",
              "std        NaN    NaN  \n",
              "min        NaN    NaN  \n",
              "25%        NaN    NaN  \n",
              "50%        NaN    NaN  \n",
              "75%        NaN    NaN  \n",
              "max        NaN    NaN  "
            ],
            "text/html": [
              "\n",
              "  <div id=\"df-76cbefbf-cf9b-4028-9704-3322ee6270a1\" class=\"colab-df-container\">\n",
              "    <div>\n",
              "<style scoped>\n",
              "    .dataframe tbody tr th:only-of-type {\n",
              "        vertical-align: middle;\n",
              "    }\n",
              "\n",
              "    .dataframe tbody tr th {\n",
              "        vertical-align: top;\n",
              "    }\n",
              "\n",
              "    .dataframe thead th {\n",
              "        text-align: right;\n",
              "    }\n",
              "</style>\n",
              "<table border=\"1\" class=\"dataframe\">\n",
              "  <thead>\n",
              "    <tr style=\"text-align: right;\">\n",
              "      <th></th>\n",
              "      <th>Year</th>\n",
              "      <th>App.</th>\n",
              "      <th>Taxon</th>\n",
              "      <th>Class</th>\n",
              "      <th>Order</th>\n",
              "      <th>Family</th>\n",
              "      <th>Genus</th>\n",
              "      <th>Importer</th>\n",
              "      <th>Exporter</th>\n",
              "      <th>Origin</th>\n",
              "      <th>Importer reported quantity</th>\n",
              "      <th>Exporter reported quantity</th>\n",
              "      <th>Term</th>\n",
              "      <th>Unit</th>\n",
              "      <th>Purpose</th>\n",
              "      <th>Source</th>\n",
              "    </tr>\n",
              "  </thead>\n",
              "  <tbody>\n",
              "    <tr>\n",
              "      <th>count</th>\n",
              "      <td>67161.000</td>\n",
              "      <td>67161</td>\n",
              "      <td>67161</td>\n",
              "      <td>46937</td>\n",
              "      <td>67104</td>\n",
              "      <td>66700</td>\n",
              "      <td>65702</td>\n",
              "      <td>67090</td>\n",
              "      <td>66588</td>\n",
              "      <td>25643</td>\n",
              "      <td>31866.000</td>\n",
              "      <td>44021.000</td>\n",
              "      <td>67161</td>\n",
              "      <td>6402</td>\n",
              "      <td>61102</td>\n",
              "      <td>66617</td>\n",
              "    </tr>\n",
              "    <tr>\n",
              "      <th>unique</th>\n",
              "      <td>NaN</td>\n",
              "      <td>4</td>\n",
              "      <td>6382</td>\n",
              "      <td>16</td>\n",
              "      <td>101</td>\n",
              "      <td>252</td>\n",
              "      <td>1340</td>\n",
              "      <td>216</td>\n",
              "      <td>211</td>\n",
              "      <td>179</td>\n",
              "      <td>NaN</td>\n",
              "      <td>NaN</td>\n",
              "      <td>83</td>\n",
              "      <td>13</td>\n",
              "      <td>12</td>\n",
              "      <td>10</td>\n",
              "    </tr>\n",
              "    <tr>\n",
              "      <th>top</th>\n",
              "      <td>NaN</td>\n",
              "      <td>II</td>\n",
              "      <td>Crocodylus niloticus</td>\n",
              "      <td>Reptilia</td>\n",
              "      <td>Orchidales</td>\n",
              "      <td>Orchidaceae</td>\n",
              "      <td>Crocodylus</td>\n",
              "      <td>US</td>\n",
              "      <td>NL</td>\n",
              "      <td>ID</td>\n",
              "      <td>NaN</td>\n",
              "      <td>NaN</td>\n",
              "      <td>live</td>\n",
              "      <td>kg</td>\n",
              "      <td>T</td>\n",
              "      <td>W</td>\n",
              "    </tr>\n",
              "    <tr>\n",
              "      <th>freq</th>\n",
              "      <td>NaN</td>\n",
              "      <td>59253</td>\n",
              "      <td>2417</td>\n",
              "      <td>18430</td>\n",
              "      <td>9973</td>\n",
              "      <td>9973</td>\n",
              "      <td>4408</td>\n",
              "      <td>9722</td>\n",
              "      <td>7201</td>\n",
              "      <td>2974</td>\n",
              "      <td>NaN</td>\n",
              "      <td>NaN</td>\n",
              "      <td>33862</td>\n",
              "      <td>3643</td>\n",
              "      <td>47081</td>\n",
              "      <td>21590</td>\n",
              "    </tr>\n",
              "    <tr>\n",
              "      <th>mean</th>\n",
              "      <td>2016.002</td>\n",
              "      <td>NaN</td>\n",
              "      <td>NaN</td>\n",
              "      <td>NaN</td>\n",
              "      <td>NaN</td>\n",
              "      <td>NaN</td>\n",
              "      <td>NaN</td>\n",
              "      <td>NaN</td>\n",
              "      <td>NaN</td>\n",
              "      <td>NaN</td>\n",
              "      <td>4382.425</td>\n",
              "      <td>4443.878</td>\n",
              "      <td>NaN</td>\n",
              "      <td>NaN</td>\n",
              "      <td>NaN</td>\n",
              "      <td>NaN</td>\n",
              "    </tr>\n",
              "    <tr>\n",
              "      <th>std</th>\n",
              "      <td>0.048</td>\n",
              "      <td>NaN</td>\n",
              "      <td>NaN</td>\n",
              "      <td>NaN</td>\n",
              "      <td>NaN</td>\n",
              "      <td>NaN</td>\n",
              "      <td>NaN</td>\n",
              "      <td>NaN</td>\n",
              "      <td>NaN</td>\n",
              "      <td>NaN</td>\n",
              "      <td>144910.274</td>\n",
              "      <td>157379.357</td>\n",
              "      <td>NaN</td>\n",
              "      <td>NaN</td>\n",
              "      <td>NaN</td>\n",
              "      <td>NaN</td>\n",
              "    </tr>\n",
              "    <tr>\n",
              "      <th>min</th>\n",
              "      <td>2016.000</td>\n",
              "      <td>NaN</td>\n",
              "      <td>NaN</td>\n",
              "      <td>NaN</td>\n",
              "      <td>NaN</td>\n",
              "      <td>NaN</td>\n",
              "      <td>NaN</td>\n",
              "      <td>NaN</td>\n",
              "      <td>NaN</td>\n",
              "      <td>NaN</td>\n",
              "      <td>0.000</td>\n",
              "      <td>0.000</td>\n",
              "      <td>NaN</td>\n",
              "      <td>NaN</td>\n",
              "      <td>NaN</td>\n",
              "      <td>NaN</td>\n",
              "    </tr>\n",
              "    <tr>\n",
              "      <th>25%</th>\n",
              "      <td>2016.000</td>\n",
              "      <td>NaN</td>\n",
              "      <td>NaN</td>\n",
              "      <td>NaN</td>\n",
              "      <td>NaN</td>\n",
              "      <td>NaN</td>\n",
              "      <td>NaN</td>\n",
              "      <td>NaN</td>\n",
              "      <td>NaN</td>\n",
              "      <td>NaN</td>\n",
              "      <td>3.000</td>\n",
              "      <td>2.000</td>\n",
              "      <td>NaN</td>\n",
              "      <td>NaN</td>\n",
              "      <td>NaN</td>\n",
              "      <td>NaN</td>\n",
              "    </tr>\n",
              "    <tr>\n",
              "      <th>50%</th>\n",
              "      <td>2016.000</td>\n",
              "      <td>NaN</td>\n",
              "      <td>NaN</td>\n",
              "      <td>NaN</td>\n",
              "      <td>NaN</td>\n",
              "      <td>NaN</td>\n",
              "      <td>NaN</td>\n",
              "      <td>NaN</td>\n",
              "      <td>NaN</td>\n",
              "      <td>NaN</td>\n",
              "      <td>12.000</td>\n",
              "      <td>12.000</td>\n",
              "      <td>NaN</td>\n",
              "      <td>NaN</td>\n",
              "      <td>NaN</td>\n",
              "      <td>NaN</td>\n",
              "    </tr>\n",
              "    <tr>\n",
              "      <th>75%</th>\n",
              "      <td>2016.000</td>\n",
              "      <td>NaN</td>\n",
              "      <td>NaN</td>\n",
              "      <td>NaN</td>\n",
              "      <td>NaN</td>\n",
              "      <td>NaN</td>\n",
              "      <td>NaN</td>\n",
              "      <td>NaN</td>\n",
              "      <td>NaN</td>\n",
              "      <td>NaN</td>\n",
              "      <td>80.000</td>\n",
              "      <td>82.000</td>\n",
              "      <td>NaN</td>\n",
              "      <td>NaN</td>\n",
              "      <td>NaN</td>\n",
              "      <td>NaN</td>\n",
              "    </tr>\n",
              "    <tr>\n",
              "      <th>max</th>\n",
              "      <td>2017.000</td>\n",
              "      <td>NaN</td>\n",
              "      <td>NaN</td>\n",
              "      <td>NaN</td>\n",
              "      <td>NaN</td>\n",
              "      <td>NaN</td>\n",
              "      <td>NaN</td>\n",
              "      <td>NaN</td>\n",
              "      <td>NaN</td>\n",
              "      <td>NaN</td>\n",
              "      <td>19524978.000</td>\n",
              "      <td>21543618.000</td>\n",
              "      <td>NaN</td>\n",
              "      <td>NaN</td>\n",
              "      <td>NaN</td>\n",
              "      <td>NaN</td>\n",
              "    </tr>\n",
              "  </tbody>\n",
              "</table>\n",
              "</div>\n",
              "    <div class=\"colab-df-buttons\">\n",
              "\n",
              "  <div class=\"colab-df-container\">\n",
              "    <button class=\"colab-df-convert\" onclick=\"convertToInteractive('df-76cbefbf-cf9b-4028-9704-3322ee6270a1')\"\n",
              "            title=\"Convert this dataframe to an interactive table.\"\n",
              "            style=\"display:none;\">\n",
              "\n",
              "  <svg xmlns=\"http://www.w3.org/2000/svg\" height=\"24px\" viewBox=\"0 -960 960 960\">\n",
              "    <path d=\"M120-120v-720h720v720H120Zm60-500h600v-160H180v160Zm220 220h160v-160H400v160Zm0 220h160v-160H400v160ZM180-400h160v-160H180v160Zm440 0h160v-160H620v160ZM180-180h160v-160H180v160Zm440 0h160v-160H620v160Z\"/>\n",
              "  </svg>\n",
              "    </button>\n",
              "\n",
              "  <style>\n",
              "    .colab-df-container {\n",
              "      display:flex;\n",
              "      gap: 12px;\n",
              "    }\n",
              "\n",
              "    .colab-df-convert {\n",
              "      background-color: #E8F0FE;\n",
              "      border: none;\n",
              "      border-radius: 50%;\n",
              "      cursor: pointer;\n",
              "      display: none;\n",
              "      fill: #1967D2;\n",
              "      height: 32px;\n",
              "      padding: 0 0 0 0;\n",
              "      width: 32px;\n",
              "    }\n",
              "\n",
              "    .colab-df-convert:hover {\n",
              "      background-color: #E2EBFA;\n",
              "      box-shadow: 0px 1px 2px rgba(60, 64, 67, 0.3), 0px 1px 3px 1px rgba(60, 64, 67, 0.15);\n",
              "      fill: #174EA6;\n",
              "    }\n",
              "\n",
              "    .colab-df-buttons div {\n",
              "      margin-bottom: 4px;\n",
              "    }\n",
              "\n",
              "    [theme=dark] .colab-df-convert {\n",
              "      background-color: #3B4455;\n",
              "      fill: #D2E3FC;\n",
              "    }\n",
              "\n",
              "    [theme=dark] .colab-df-convert:hover {\n",
              "      background-color: #434B5C;\n",
              "      box-shadow: 0px 1px 3px 1px rgba(0, 0, 0, 0.15);\n",
              "      filter: drop-shadow(0px 1px 2px rgba(0, 0, 0, 0.3));\n",
              "      fill: #FFFFFF;\n",
              "    }\n",
              "  </style>\n",
              "\n",
              "    <script>\n",
              "      const buttonEl =\n",
              "        document.querySelector('#df-76cbefbf-cf9b-4028-9704-3322ee6270a1 button.colab-df-convert');\n",
              "      buttonEl.style.display =\n",
              "        google.colab.kernel.accessAllowed ? 'block' : 'none';\n",
              "\n",
              "      async function convertToInteractive(key) {\n",
              "        const element = document.querySelector('#df-76cbefbf-cf9b-4028-9704-3322ee6270a1');\n",
              "        const dataTable =\n",
              "          await google.colab.kernel.invokeFunction('convertToInteractive',\n",
              "                                                    [key], {});\n",
              "        if (!dataTable) return;\n",
              "\n",
              "        const docLinkHtml = 'Like what you see? Visit the ' +\n",
              "          '<a target=\"_blank\" href=https://colab.research.google.com/notebooks/data_table.ipynb>data table notebook</a>'\n",
              "          + ' to learn more about interactive tables.';\n",
              "        element.innerHTML = '';\n",
              "        dataTable['output_type'] = 'display_data';\n",
              "        await google.colab.output.renderOutput(dataTable, element);\n",
              "        const docLink = document.createElement('div');\n",
              "        docLink.innerHTML = docLinkHtml;\n",
              "        element.appendChild(docLink);\n",
              "      }\n",
              "    </script>\n",
              "  </div>\n",
              "\n",
              "\n",
              "<div id=\"df-5259e0a6-7afb-48ea-b6da-f2688cd386bb\">\n",
              "  <button class=\"colab-df-quickchart\" onclick=\"quickchart('df-5259e0a6-7afb-48ea-b6da-f2688cd386bb')\"\n",
              "            title=\"Suggest charts.\"\n",
              "            style=\"display:none;\">\n",
              "\n",
              "<svg xmlns=\"http://www.w3.org/2000/svg\" height=\"24px\"viewBox=\"0 0 24 24\"\n",
              "     width=\"24px\">\n",
              "    <g>\n",
              "        <path d=\"M19 3H5c-1.1 0-2 .9-2 2v14c0 1.1.9 2 2 2h14c1.1 0 2-.9 2-2V5c0-1.1-.9-2-2-2zM9 17H7v-7h2v7zm4 0h-2V7h2v10zm4 0h-2v-4h2v4z\"/>\n",
              "    </g>\n",
              "</svg>\n",
              "  </button>\n",
              "\n",
              "<style>\n",
              "  .colab-df-quickchart {\n",
              "      --bg-color: #E8F0FE;\n",
              "      --fill-color: #1967D2;\n",
              "      --hover-bg-color: #E2EBFA;\n",
              "      --hover-fill-color: #174EA6;\n",
              "      --disabled-fill-color: #AAA;\n",
              "      --disabled-bg-color: #DDD;\n",
              "  }\n",
              "\n",
              "  [theme=dark] .colab-df-quickchart {\n",
              "      --bg-color: #3B4455;\n",
              "      --fill-color: #D2E3FC;\n",
              "      --hover-bg-color: #434B5C;\n",
              "      --hover-fill-color: #FFFFFF;\n",
              "      --disabled-bg-color: #3B4455;\n",
              "      --disabled-fill-color: #666;\n",
              "  }\n",
              "\n",
              "  .colab-df-quickchart {\n",
              "    background-color: var(--bg-color);\n",
              "    border: none;\n",
              "    border-radius: 50%;\n",
              "    cursor: pointer;\n",
              "    display: none;\n",
              "    fill: var(--fill-color);\n",
              "    height: 32px;\n",
              "    padding: 0;\n",
              "    width: 32px;\n",
              "  }\n",
              "\n",
              "  .colab-df-quickchart:hover {\n",
              "    background-color: var(--hover-bg-color);\n",
              "    box-shadow: 0 1px 2px rgba(60, 64, 67, 0.3), 0 1px 3px 1px rgba(60, 64, 67, 0.15);\n",
              "    fill: var(--button-hover-fill-color);\n",
              "  }\n",
              "\n",
              "  .colab-df-quickchart-complete:disabled,\n",
              "  .colab-df-quickchart-complete:disabled:hover {\n",
              "    background-color: var(--disabled-bg-color);\n",
              "    fill: var(--disabled-fill-color);\n",
              "    box-shadow: none;\n",
              "  }\n",
              "\n",
              "  .colab-df-spinner {\n",
              "    border: 2px solid var(--fill-color);\n",
              "    border-color: transparent;\n",
              "    border-bottom-color: var(--fill-color);\n",
              "    animation:\n",
              "      spin 1s steps(1) infinite;\n",
              "  }\n",
              "\n",
              "  @keyframes spin {\n",
              "    0% {\n",
              "      border-color: transparent;\n",
              "      border-bottom-color: var(--fill-color);\n",
              "      border-left-color: var(--fill-color);\n",
              "    }\n",
              "    20% {\n",
              "      border-color: transparent;\n",
              "      border-left-color: var(--fill-color);\n",
              "      border-top-color: var(--fill-color);\n",
              "    }\n",
              "    30% {\n",
              "      border-color: transparent;\n",
              "      border-left-color: var(--fill-color);\n",
              "      border-top-color: var(--fill-color);\n",
              "      border-right-color: var(--fill-color);\n",
              "    }\n",
              "    40% {\n",
              "      border-color: transparent;\n",
              "      border-right-color: var(--fill-color);\n",
              "      border-top-color: var(--fill-color);\n",
              "    }\n",
              "    60% {\n",
              "      border-color: transparent;\n",
              "      border-right-color: var(--fill-color);\n",
              "    }\n",
              "    80% {\n",
              "      border-color: transparent;\n",
              "      border-right-color: var(--fill-color);\n",
              "      border-bottom-color: var(--fill-color);\n",
              "    }\n",
              "    90% {\n",
              "      border-color: transparent;\n",
              "      border-bottom-color: var(--fill-color);\n",
              "    }\n",
              "  }\n",
              "</style>\n",
              "\n",
              "  <script>\n",
              "    async function quickchart(key) {\n",
              "      const quickchartButtonEl =\n",
              "        document.querySelector('#' + key + ' button');\n",
              "      quickchartButtonEl.disabled = true;  // To prevent multiple clicks.\n",
              "      quickchartButtonEl.classList.add('colab-df-spinner');\n",
              "      try {\n",
              "        const charts = await google.colab.kernel.invokeFunction(\n",
              "            'suggestCharts', [key], {});\n",
              "      } catch (error) {\n",
              "        console.error('Error during call to suggestCharts:', error);\n",
              "      }\n",
              "      quickchartButtonEl.classList.remove('colab-df-spinner');\n",
              "      quickchartButtonEl.classList.add('colab-df-quickchart-complete');\n",
              "    }\n",
              "    (() => {\n",
              "      let quickchartButtonEl =\n",
              "        document.querySelector('#df-5259e0a6-7afb-48ea-b6da-f2688cd386bb button');\n",
              "      quickchartButtonEl.style.display =\n",
              "        google.colab.kernel.accessAllowed ? 'block' : 'none';\n",
              "    })();\n",
              "  </script>\n",
              "</div>\n",
              "    </div>\n",
              "  </div>\n"
            ]
          },
          "metadata": {},
          "execution_count": 5
        }
      ]
    },
    {
      "cell_type": "code",
      "source": [
        "df.isnull().sum()"
      ],
      "metadata": {
        "colab": {
          "base_uri": "https://localhost:8080/"
        },
        "id": "6cJ-NHJ_hmOC",
        "outputId": "d9d13daf-44c0-4330-da61-f4c480ee0553"
      },
      "execution_count": 6,
      "outputs": [
        {
          "output_type": "execute_result",
          "data": {
            "text/plain": [
              "Year                              0\n",
              "App.                              0\n",
              "Taxon                             0\n",
              "Class                         20224\n",
              "Order                            57\n",
              "Family                          461\n",
              "Genus                          1459\n",
              "Importer                         71\n",
              "Exporter                        573\n",
              "Origin                        41518\n",
              "Importer reported quantity    35295\n",
              "Exporter reported quantity    23140\n",
              "Term                              0\n",
              "Unit                          60759\n",
              "Purpose                        6059\n",
              "Source                          544\n",
              "dtype: int64"
            ]
          },
          "metadata": {},
          "execution_count": 6
        }
      ]
    },
    {
      "cell_type": "code",
      "source": [
        "df.notnull().sum()"
      ],
      "metadata": {
        "colab": {
          "base_uri": "https://localhost:8080/"
        },
        "id": "KDMvp8-1hsVz",
        "outputId": "7c28869a-b5b1-489e-afc6-1f042f136e17"
      },
      "execution_count": 7,
      "outputs": [
        {
          "output_type": "execute_result",
          "data": {
            "text/plain": [
              "Year                          67161\n",
              "App.                          67161\n",
              "Taxon                         67161\n",
              "Class                         46937\n",
              "Order                         67104\n",
              "Family                        66700\n",
              "Genus                         65702\n",
              "Importer                      67090\n",
              "Exporter                      66588\n",
              "Origin                        25643\n",
              "Importer reported quantity    31866\n",
              "Exporter reported quantity    44021\n",
              "Term                          67161\n",
              "Unit                           6402\n",
              "Purpose                       61102\n",
              "Source                        66617\n",
              "dtype: int64"
            ]
          },
          "metadata": {},
          "execution_count": 7
        }
      ]
    },
    {
      "cell_type": "code",
      "source": [
        "df2 = df.copy()"
      ],
      "metadata": {
        "id": "RILM8VxFoMoY"
      },
      "execution_count": 8,
      "outputs": []
    },
    {
      "cell_type": "code",
      "source": [
        "df2['Year'] = df2['Year'].astype(\"category\")"
      ],
      "metadata": {
        "id": "k4uzyqbFmBzI"
      },
      "execution_count": 9,
      "outputs": []
    },
    {
      "cell_type": "code",
      "source": [
        "df2.drop(['Class', 'Origin','Unit'], axis=1, inplace=True)\n",
        "df2.info()"
      ],
      "metadata": {
        "colab": {
          "base_uri": "https://localhost:8080/"
        },
        "id": "jLkdpLIWLGtf",
        "outputId": "782ae96d-2152-43a4-cc22-49a92c650228"
      },
      "execution_count": 10,
      "outputs": [
        {
          "output_type": "stream",
          "name": "stdout",
          "text": [
            "<class 'pandas.core.frame.DataFrame'>\n",
            "RangeIndex: 67161 entries, 0 to 67160\n",
            "Data columns (total 13 columns):\n",
            " #   Column                      Non-Null Count  Dtype   \n",
            "---  ------                      --------------  -----   \n",
            " 0   Year                        67161 non-null  category\n",
            " 1   App.                        67161 non-null  object  \n",
            " 2   Taxon                       67161 non-null  object  \n",
            " 3   Order                       67104 non-null  object  \n",
            " 4   Family                      66700 non-null  object  \n",
            " 5   Genus                       65702 non-null  object  \n",
            " 6   Importer                    67090 non-null  object  \n",
            " 7   Exporter                    66588 non-null  object  \n",
            " 8   Importer reported quantity  31866 non-null  float64 \n",
            " 9   Exporter reported quantity  44021 non-null  float64 \n",
            " 10  Term                        67161 non-null  object  \n",
            " 11  Purpose                     61102 non-null  object  \n",
            " 12  Source                      66617 non-null  object  \n",
            "dtypes: category(1), float64(2), object(10)\n",
            "memory usage: 6.2+ MB\n"
          ]
        }
      ]
    },
    {
      "cell_type": "code",
      "source": [
        "df2[['Exporter reported quantity', 'Importer reported quantity']] = df2[['Exporter reported quantity', 'Importer reported quantity']].fillna(0)"
      ],
      "metadata": {
        "id": "7MCLkUZ6MSiD"
      },
      "execution_count": 11,
      "outputs": []
    },
    {
      "cell_type": "code",
      "source": [
        "from sklearn.impute import SimpleImputer\n",
        "imp = SimpleImputer(strategy=\"most_frequent\")\n",
        "df2[['Order','Family', 'Genus', 'Importer', 'Exporter', 'Purpose', 'Source']] = imp.fit_transform(df2[['Order','Family', 'Genus', 'Importer', 'Exporter', 'Purpose', 'Source']])\n",
        "df2.isnull().sum()"
      ],
      "metadata": {
        "colab": {
          "base_uri": "https://localhost:8080/"
        },
        "id": "MU6Xb3gwfjyx",
        "outputId": "a8100be8-0421-4035-e0b1-4281ec4a0a86"
      },
      "execution_count": 12,
      "outputs": [
        {
          "output_type": "execute_result",
          "data": {
            "text/plain": [
              "Year                          0\n",
              "App.                          0\n",
              "Taxon                         0\n",
              "Order                         0\n",
              "Family                        0\n",
              "Genus                         0\n",
              "Importer                      0\n",
              "Exporter                      0\n",
              "Importer reported quantity    0\n",
              "Exporter reported quantity    0\n",
              "Term                          0\n",
              "Purpose                       0\n",
              "Source                        0\n",
              "dtype: int64"
            ]
          },
          "metadata": {},
          "execution_count": 12
        }
      ]
    },
    {
      "cell_type": "code",
      "source": [
        "import seaborn as sns\n",
        "sns.boxplot(data=df2, x=\"Year\", y=\"Exporter reported quantity\")"
      ],
      "metadata": {
        "colab": {
          "base_uri": "https://localhost:8080/",
          "height": 482
        },
        "id": "myK1imLJMsRk",
        "outputId": "6729b835-9fa7-4d20-ddb4-ac41a88bf20f"
      },
      "execution_count": 13,
      "outputs": [
        {
          "output_type": "execute_result",
          "data": {
            "text/plain": [
              "<Axes: xlabel='Year', ylabel='Exporter reported quantity'>"
            ]
          },
          "metadata": {},
          "execution_count": 13
        },
        {
          "output_type": "display_data",
          "data": {
            "text/plain": [
              "<Figure size 640x480 with 1 Axes>"
            ],
            "image/png": "[encoded data removed]"
          },
          "metadata": {}
        }
      ]
    },
    {
      "cell_type": "code",
      "source": [
        "sns.boxplot(data=df2, x=\"Year\", y=\"Importer reported quantity\")"
      ],
      "metadata": {
        "colab": {
          "base_uri": "https://localhost:8080/",
          "height": 482
        },
        "id": "ngnlFtJmOHAb",
        "outputId": "906e13c7-a70d-409b-8446-fbc1c7471285"
      },
      "execution_count": 14,
      "outputs": [
        {
          "output_type": "execute_result",
          "data": {
            "text/plain": [
              "<Axes: xlabel='Year', ylabel='Importer reported quantity'>"
            ]
          },
          "metadata": {},
          "execution_count": 14
        },
        {
          "output_type": "display_data",
          "data": {
            "text/plain": [
              "<Figure size 640x480 with 1 Axes>"
            ],
            "image/png": "[encoded data removed]"
          },
          "metadata": {}
        }
      ]
    },
    {
      "cell_type": "code",
      "source": [
        "list_str_obj_cols = df2.columns[df2.dtypes == \"object\"].tolist()\n",
        "for str_obj_col in list_str_obj_cols:\n",
        "    df2[str_obj_col] = df2[str_obj_col].astype(\"category\")"
      ],
      "metadata": {
        "id": "voZFm6tEwO7_"
      },
      "execution_count": 15,
      "outputs": []
    },
    {
      "cell_type": "code",
      "source": [
        "df2.info()"
      ],
      "metadata": {
        "colab": {
          "base_uri": "https://localhost:8080/"
        },
        "id": "9p5gGs5nwO3D",
        "outputId": "a5662f1a-5e99-4dd0-bc63-b0b16ab48a14"
      },
      "execution_count": 16,
      "outputs": [
        {
          "output_type": "stream",
          "name": "stdout",
          "text": [
            "<class 'pandas.core.frame.DataFrame'>\n",
            "RangeIndex: 67161 entries, 0 to 67160\n",
            "Data columns (total 13 columns):\n",
            " #   Column                      Non-Null Count  Dtype   \n",
            "---  ------                      --------------  -----   \n",
            " 0   Year                        67161 non-null  category\n",
            " 1   App.                        67161 non-null  category\n",
            " 2   Taxon                       67161 non-null  category\n",
            " 3   Order                       67161 non-null  category\n",
            " 4   Family                      67161 non-null  category\n",
            " 5   Genus                       67161 non-null  category\n",
            " 6   Importer                    67161 non-null  category\n",
            " 7   Exporter                    67161 non-null  category\n",
            " 8   Importer reported quantity  67161 non-null  float64 \n",
            " 9   Exporter reported quantity  67161 non-null  float64 \n",
            " 10  Term                        67161 non-null  category\n",
            " 11  Purpose                     67161 non-null  category\n",
            " 12  Source                      67161 non-null  category\n",
            "dtypes: category(11), float64(2)\n",
            "memory usage: 2.4 MB\n"
          ]
        }
      ]
    },
    {
      "cell_type": "code",
      "source": [
        "df2['App.'].unique()"
      ],
      "metadata": {
        "colab": {
          "base_uri": "https://localhost:8080/"
        },
        "id": "3MYtHuovqyfC",
        "outputId": "5f5aaf40-7bb3-4feb-fde2-9a13c1a3c3e1"
      },
      "execution_count": 17,
      "outputs": [
        {
          "output_type": "execute_result",
          "data": {
            "text/plain": [
              "['I', 'II', 'III', 'N']\n",
              "Categories (4, object): ['I', 'II', 'III', 'N']"
            ]
          },
          "metadata": {},
          "execution_count": 17
        }
      ]
    },
    {
      "cell_type": "code",
      "source": [
        "df2['App.'][df2['App.'] == 'N'].count()"
      ],
      "metadata": {
        "colab": {
          "base_uri": "https://localhost:8080/"
        },
        "id": "tkZSyUdxyb47",
        "outputId": "45dbb14f-4e22-4f1a-9499-4a113519e6e5"
      },
      "execution_count": 18,
      "outputs": [
        {
          "output_type": "execute_result",
          "data": {
            "text/plain": [
              "193"
            ]
          },
          "metadata": {},
          "execution_count": 18
        }
      ]
    },
    {
      "cell_type": "code",
      "source": [
        "# Filter rows where 'App' is not equal to 'N'\n",
        "df2 = df2[df2['App.'] != 'N']"
      ],
      "metadata": {
        "id": "B5sxeh5OAvA-"
      },
      "execution_count": 22,
      "outputs": []
    },
    {
      "cell_type": "code",
      "source": [
        "df2['App.'][df2['App.'] == 'N'].count()"
      ],
      "metadata": {
        "colab": {
          "base_uri": "https://localhost:8080/"
        },
        "id": "qp3bCIcrA4Oz",
        "outputId": "c1a75296-7439-4f4f-efe5-335eaf89e87e"
      },
      "execution_count": 23,
      "outputs": [
        {
          "output_type": "execute_result",
          "data": {
            "text/plain": [
              "0"
            ]
          },
          "metadata": {},
          "execution_count": 23
        }
      ]
    },
    {
      "cell_type": "code",
      "source": [
        "sns.histplot(x= df2['App.'] )"
      ],
      "metadata": {
        "colab": {
          "base_uri": "https://localhost:8080/",
          "height": 466
        },
        "id": "zdNjV5O1-QTN",
        "outputId": "b6056bb6-b1e2-4c7c-e026-aa07bd663045"
      },
      "execution_count": 24,
      "outputs": [
        {
          "output_type": "execute_result",
          "data": {
            "text/plain": [
              "<Axes: xlabel='App.', ylabel='Count'>"
            ]
          },
          "metadata": {},
          "execution_count": 24
        },
        {
          "output_type": "display_data",
          "data": {
            "text/plain": [
              "<Figure size 640x480 with 1 Axes>"
            ],
            "image/png": "[encoded data removed]"
          },
          "metadata": {}
        }
      ]
    },
    {
      "cell_type": "code",
      "source": [
        "# Columns to be frequency-encoded\n",
        "columns_to_encode = ['Taxon',  'Order', 'Family', 'Genus', 'Importer', 'Exporter', 'Term']\n",
        "df2 = df2.copy()\n",
        "\n",
        "for column in columns_to_encode:\n",
        "    frequency_encoding = df2[column].value_counts(normalize=True).to_dict()\n",
        "    df2[column] = df2[column].map(frequency_encoding)"
      ],
      "metadata": {
        "id": "oALzPh3f5mUI"
      },
      "execution_count": 27,
      "outputs": []
    },
    {
      "cell_type": "code",
      "source": [
        "from sklearn.preprocessing import LabelEncoder\n",
        "\n",
        "# List of columns you want to label encode\n",
        "columns_to_encode = ['Year','App.', 'Purpose', 'Source']\n",
        "\n",
        "# Create a LabelEncoder instance\n",
        "label_encoder = LabelEncoder()\n",
        "\n",
        "# Loop through the specified columns and encode them\n",
        "for column in columns_to_encode:\n",
        "    df2[column] = label_encoder.fit_transform(df2[column])"
      ],
      "metadata": {
        "id": "ghZ3zZtuSax-"
      },
      "execution_count": 28,
      "outputs": []
    },
    {
      "cell_type": "code",
      "source": [
        "# Creating a dataframe with 70% values of original dataframe\n",
        "train = df2.sample(frac = 0.7, random_state=123)\n",
        "\n",
        "# Creating dataframe with rest of the 30% values\n",
        "test = df2.drop(train.index)"
      ],
      "metadata": {
        "id": "xWQnsvbhwOXn"
      },
      "execution_count": 29,
      "outputs": []
    },
    {
      "cell_type": "code",
      "source": [
        "import warnings\n",
        "warnings.filterwarnings('ignore')\n",
        "\n",
        "from sklearn.linear_model import LogisticRegression\n",
        "from sklearn.ensemble import RandomForestClassifier\n",
        "from sklearn.tree import DecisionTreeClassifier\n",
        "from sklearn.model_selection import train_test_split\n",
        "from sklearn.metrics import accuracy_score, f1_score"
      ],
      "metadata": {
        "id": "PPMJvCIt_mIF"
      },
      "execution_count": 30,
      "outputs": []
    },
    {
      "cell_type": "code",
      "source": [
        "y = train[\"App.\"]\n",
        "X = train.drop(\"App.\",axis=1)\n",
        "\n",
        "X_train, X_test, y_train, y_test = train_test_split(X,y,test_size=0.3, random_state = 21)\n",
        "\n",
        "log_model = LogisticRegression()\n",
        "rf_model = RandomForestClassifier(random_state=1, n_jobs= 1)\n",
        "d_tree = DecisionTreeClassifier()"
      ],
      "metadata": {
        "id": "CPVRHtU070Uh"
      },
      "execution_count": 31,
      "outputs": []
    },
    {
      "cell_type": "code",
      "source": [],
      "metadata": {
        "id": "LXYPtfcS70PF"
      },
      "execution_count": 31,
      "outputs": []
    },
    {
      "cell_type": "code",
      "source": [
        "df2.info()"
      ],
      "metadata": {
        "id": "2chS3zZQB-kZ",
        "colab": {
          "base_uri": "https://localhost:8080/"
        },
        "outputId": "03f5819c-d4da-41ca-e08e-efb14f370ed3"
      },
      "execution_count": 32,
      "outputs": [
        {
          "output_type": "stream",
          "name": "stdout",
          "text": [
            "<class 'pandas.core.frame.DataFrame'>\n",
            "Int64Index: 66968 entries, 0 to 67160\n",
            "Data columns (total 13 columns):\n",
            " #   Column                      Non-Null Count  Dtype  \n",
            "---  ------                      --------------  -----  \n",
            " 0   Year                        66968 non-null  int64  \n",
            " 1   App.                        66968 non-null  int64  \n",
            " 2   Taxon                       66968 non-null  float64\n",
            " 3   Order                       66968 non-null  float64\n",
            " 4   Family                      66968 non-null  float64\n",
            " 5   Genus                       66968 non-null  float64\n",
            " 6   Importer                    66968 non-null  float64\n",
            " 7   Exporter                    66968 non-null  float64\n",
            " 8   Importer reported quantity  66968 non-null  float64\n",
            " 9   Exporter reported quantity  66968 non-null  float64\n",
            " 10  Term                        66968 non-null  float64\n",
            " 11  Purpose                     66968 non-null  int64  \n",
            " 12  Source                      66968 non-null  int64  \n",
            "dtypes: float64(9), int64(4)\n",
            "memory usage: 9.2 MB\n"
          ]
        }
      ]
    },
    {
      "cell_type": "code",
      "source": [
        "log_fit = log_model.fit(X_train, y_train)\n",
        "log_pred = log_model.predict(X_test)\n",
        "as1 = accuracy_score(y_test, log_pred)\n",
        "f1s1 = f1_score(y_test,log_pred,average='macro')\n",
        "print(\"Accuracy of LogisticRegression is = \",as1)\n",
        "print(\"F1 score of LogisticRegression is = \",f1s1)"
      ],
      "metadata": {
        "colab": {
          "base_uri": "https://localhost:8080/"
        },
        "id": "WIWRpc2rALf5",
        "outputId": "a50be41e-2ae4-4618-bb2c-579afd343563"
      },
      "execution_count": 33,
      "outputs": [
        {
          "output_type": "stream",
          "name": "stdout",
          "text": [
            "Accuracy of LogisticRegression is =  0.8846700796359499\n",
            "F1 score of LogisticRegression is =  0.31293543600191154\n"
          ]
        }
      ]
    },
    {
      "cell_type": "code",
      "source": [
        "d_fit = d_tree.fit(X_train,y_train)\n",
        "d_pred = d_tree.predict(X_test)\n",
        "as3=accuracy_score(y_test,d_pred)\n",
        "f1s3=f1_score(y_test, d_pred, average='macro')\n",
        "print(\"Accuracy of DecisionTree is = \",as3)\n",
        "print(\"F1 score of DecisionTree is = \",f1s3)"
      ],
      "metadata": {
        "colab": {
          "base_uri": "https://localhost:8080/"
        },
        "id": "whtTPIDTALY-",
        "outputId": "c3bbba87-b461-4fca-9946-3a34ff4ea9b6"
      },
      "execution_count": 34,
      "outputs": [
        {
          "output_type": "stream",
          "name": "stdout",
          "text": [
            "Accuracy of DecisionTree is =  0.9790244596131968\n",
            "F1 score of DecisionTree is =  0.9433898381622162\n"
          ]
        }
      ]
    },
    {
      "cell_type": "code",
      "source": [
        "rf_fit = rf_model.fit(X_train, y_train)\n",
        "rf_pred = rf_model.predict(X_test)\n",
        "as2 = accuracy_score(y_test, rf_pred)\n",
        "f1s2 = f1_score(y_test,rf_pred,average='macro')\n",
        "print(\"Accuracy of RandomForest is = \",as2)\n",
        "print(\"F1 score of RandomForest is = \",f1s2)"
      ],
      "metadata": {
        "colab": {
          "base_uri": "https://localhost:8080/"
        },
        "id": "Mw2S0S4SARZm",
        "outputId": "14ffbc07-b6b2-45a0-b08c-1ff3959e0478"
      },
      "execution_count": 35,
      "outputs": [
        {
          "output_type": "stream",
          "name": "stdout",
          "text": [
            "Accuracy of RandomForest is =  0.9842150170648464\n",
            "F1 score of RandomForest is =  0.9507597385167567\n"
          ]
        }
      ]
    },
    {
      "cell_type": "code",
      "source": [],
      "metadata": {
        "id": "DyXwEGhlARTu"
      },
      "execution_count": null,
      "outputs": []
    },
    {
      "cell_type": "code",
      "source": [],
      "metadata": {
        "id": "7EL3uukIARNd"
      },
      "execution_count": null,
      "outputs": []
    }
  ]
}
